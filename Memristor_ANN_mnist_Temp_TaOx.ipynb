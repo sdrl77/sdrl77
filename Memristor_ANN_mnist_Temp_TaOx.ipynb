{
  "nbformat": 4,
  "nbformat_minor": 0,
  "metadata": {
    "colab": {
      "provenance": [],
      "include_colab_link": true
    },
    "kernelspec": {
      "name": "python3",
      "display_name": "Python 3"
    },
    "language_info": {
      "name": "python"
    }
  },
  "cells": [
    {
      "cell_type": "markdown",
      "metadata": {
        "id": "view-in-github",
        "colab_type": "text"
      },
      "source": [
        "<a href=\"https://colab.research.google.com/github/sdrl77/sdrl77/blob/main/Memristor_ANN_mnist_Temp_TaOx.ipynb\" target=\"_parent\"><img src=\"https://colab.research.google.com/assets/colab-badge.svg\" alt=\"Open In Colab\"/></a>"
      ]
    },
    {
      "cell_type": "code",
      "execution_count": null,
      "metadata": {
        "id": "aYqN3_zSneJA"
      },
      "outputs": [],
      "source": [
        "import pandas as pd\n",
        "import numpy as np\n",
        "import matplotlib.pyplot as plt\n",
        "%matplotlib inline\n",
        "import seaborn as sns\n",
        "\n",
        "from sklearn.preprocessing import MinMaxScaler\n",
        "from sklearn.model_selection import train_test_split\n",
        "from sklearn.metrics import confusion_matrix, accuracy_score"
      ]
    },
    {
      "cell_type": "code",
      "source": [
        "import tensorflow as tf\n",
        "#tf.compat.v1.disable_eager_execution()\n",
        "import keras\n",
        "from keras.models import Sequential #importing model from keras\n",
        "from keras.layers import Dense\n",
        "from keras.utils import np_utils\n",
        "from keras.wrappers.scikit_learn import KerasClassifier\n",
        "from sklearn.model_selection import GridSearchCV\n",
        "from keras.layers.core import Dense,Activation,Dropout"
      ],
      "metadata": {
        "id": "55b1U9tzni_x"
      },
      "execution_count": null,
      "outputs": []
    },
    {
      "cell_type": "code",
      "source": [
        "# 自定义SGD优化器\n",
        "class MySGD(tf.keras.optimizers.Optimizer):\n",
        "    def __init__(self, learning_rate=0.01, k_LTP=1, k_LTD=1, name=\"MySGD\", **kwargs):\n",
        "        \"\"\"Call super().__init__() and use _set_hyper() to store hyperparameters\"\"\"\n",
        "        super(MySGD, self).__init__(name, **kwargs)\n",
        "        self._set_hyper(\"learning_rate\", kwargs.get(\"lr\", learning_rate)) # handle lr=learning_rate\n",
        "        # 添加LTP/LTD作为优化器的输入值\n",
        "        self.k_LTP = k_LTP\n",
        "        self.k_LTD = k_LTD\n",
        "        self._is_first = True\n",
        "\n",
        "    def _create_slots(self, var_list):\n",
        "        \"\"\"For each model variable, create the optimizer variable associated with it.\n",
        "        TensorFlow calls these optimizer variables \"slots\".\n",
        "        For momentum optimization, we need one momentum slot per model variable.\n",
        "        \"\"\"\n",
        "        for var in var_list:\n",
        "            self.add_slot(var, \"pv\") #previous variable i.e. weight or bias\n",
        "        for var in var_list:\n",
        "            self.add_slot(var, \"pg\") #previous gradient\n",
        "\n",
        "\n",
        "    @tf.function\n",
        "    def _resource_apply_dense(self, grad, var):\n",
        "        \"\"\"Update the slots and perform one optimization step for one model variable\n",
        "        \"\"\"\n",
        "        var_dtype = var.dtype.base_dtype\n",
        "        lr_t = self._decayed_lr(var_dtype) # handle learning rate decay\n",
        "        new_var_LTD = var - grad * lr_t * self.k_LTD\n",
        "        new_var_LTP = var - grad * lr_t * self.k_LTP\n",
        "        pv_var = self.get_slot(var, \"pv\")\n",
        "        pg_var = self.get_slot(var, \"pg\")\n",
        "\n",
        "        #在weight update过程中考虑LTP/LTD的影响\n",
        "        if self._is_first:\n",
        "            self._is_first = False\n",
        "            new_var = new_var_LTD\n",
        "        else:\n",
        "            cond = pg_var > 0\n",
        "            print(cond)\n",
        "            new_var = tf.where(cond, new_var_LTD, new_var_LTP)\n",
        "\n",
        "\n",
        "        pv_var.assign(var)\n",
        "        pg_var.assign(grad)\n",
        "        var.assign(new_var)\n",
        "\n",
        "    def _resource_apply_sparse(self, grad, var):\n",
        "        raise NotImplementedError\n",
        "\n",
        "    def get_config(self):\n",
        "        base_config = super().get_config()\n",
        "        return {\n",
        "            **base_config,\n",
        "            \"learning_rate\": self._serialize_hyperparameter(\"learning_rate\"),\n",
        "            #\"learning_rate\": self.learning_rate,\n",
        "            \"k_LTP\": self.k_LTP,\n",
        "            \"k_LTD\": self.k_LTD\n",
        "        }"
      ],
      "metadata": {
        "id": "KLli-8UCnkjH"
      },
      "execution_count": null,
      "outputs": []
    },
    {
      "cell_type": "code",
      "source": [
        "def model_init(LTP, LTD):\n",
        "  sgd = MySGD(learning_rate=0.02, k_LTP = LTP, k_LTD = LTD)\n",
        "  #model initialization\n",
        "  model = Sequential()\n",
        "\n",
        "  # adding the first layer to the model (hidden)\n",
        "  model.add(Dense(200, input_dim=x_train.shape[1], kernel_initializer='uniform', activation='relu'))\n",
        "  # adding the output layer\n",
        "  model.add(Dense(10, kernel_initializer='uniform', activation='softmax'))\n",
        "  # compile the model for model\n",
        "  model.compile(optimizer=sgd, loss='categorical_crossentropy', metrics=['accuracy'])\n",
        "\n",
        "  return model"
      ],
      "metadata": {
        "id": "URgFRq26nyU_"
      },
      "execution_count": null,
      "outputs": []
    },
    {
      "cell_type": "code",
      "source": [
        "(x_train, y_train), (x_test, y_test) = tf.keras.datasets.mnist.load_data()\n",
        "# print(x_train.shape, y_train.shape, x_test.shape, y_test.shape)\n",
        "#Reshaping the data 2D\n",
        "x_train = x_train.reshape(60000,784)\n",
        "x_test = x_test.reshape(10000,784)\n",
        "#one- hot encoding the target variable\n",
        "y_train = np_utils.to_categorical(y_train)\n",
        "y_test = np_utils.to_categorical(y_test)\n",
        "#Scaling the value\n",
        "minmax = MinMaxScaler()\n",
        "x_train=minmax.fit_transform(x_train)\n",
        "x_test=minmax.transform(x_test)\n",
        "#Split the tarin data further into trainig set and validationd set\n",
        "x_train, x_val, y_train, y_val=train_test_split(x_train, y_train, test_size = 0.8, random_state = 1)\n",
        "print(x_train.shape, x_val.shape, y_train.shape, y_val.shape)"
      ],
      "metadata": {
        "colab": {
          "base_uri": "https://localhost:8080/"
        },
        "id": "JBmLYfCwnnHU",
        "outputId": "3ffd3580-a2e8-4532-e283-52a54ba7f96f"
      },
      "execution_count": null,
      "outputs": [
        {
          "output_type": "stream",
          "name": "stdout",
          "text": [
            "Downloading data from https://storage.googleapis.com/tensorflow/tf-keras-datasets/mnist.npz\n",
            "11493376/11490434 [==============================] - 0s 0us/step\n",
            "11501568/11490434 [==============================] - 0s 0us/step\n",
            "(12000, 784) (48000, 784) (12000, 10) (48000, 10)\n"
          ]
        }
      ]
    },
    {
      "cell_type": "code",
      "source": [
        "model_25 = model_init(1, 1)\n",
        "model_25_fit = model_25.fit(x_train, y_train, epochs=50, batch_size=5, validation_data=(x_val, y_val), verbose=1)"
      ],
      "metadata": {
        "colab": {
          "base_uri": "https://localhost:8080/"
        },
        "id": "W_8LGLIDofrk",
        "outputId": "2b03ee7c-f00d-4cbc-c01b-417677fa5814"
      },
      "execution_count": null,
      "outputs": [
        {
          "output_type": "stream",
          "name": "stdout",
          "text": [
            "Epoch 1/50\n",
            "Tensor(\"Greater:0\", shape=(200,), dtype=bool, device=/job:localhost/replica:0/task:0/device:CPU:0)\n",
            "Tensor(\"Greater:0\", shape=(200, 10), dtype=bool, device=/job:localhost/replica:0/task:0/device:CPU:0)\n",
            "Tensor(\"Greater:0\", shape=(10,), dtype=bool, device=/job:localhost/replica:0/task:0/device:CPU:0)\n",
            "2400/2400 [==============================] - 30s 12ms/step - loss: 0.6122 - accuracy: 0.8317 - val_loss: 0.3396 - val_accuracy: 0.9035\n",
            "Epoch 2/50\n",
            "2400/2400 [==============================] - 26s 11ms/step - loss: 0.2861 - accuracy: 0.9173 - val_loss: 0.2997 - val_accuracy: 0.9089\n",
            "Epoch 3/50\n",
            "2400/2400 [==============================] - 16s 7ms/step - loss: 0.2185 - accuracy: 0.9353 - val_loss: 0.2353 - val_accuracy: 0.9309\n",
            "Epoch 4/50\n",
            "2400/2400 [==============================] - 27s 11ms/step - loss: 0.1761 - accuracy: 0.9483 - val_loss: 0.2140 - val_accuracy: 0.9377\n",
            "Epoch 5/50\n",
            "2400/2400 [==============================] - 17s 7ms/step - loss: 0.1439 - accuracy: 0.9583 - val_loss: 0.1907 - val_accuracy: 0.9444\n",
            "Epoch 6/50\n",
            "2400/2400 [==============================] - 16s 7ms/step - loss: 0.1190 - accuracy: 0.9657 - val_loss: 0.1817 - val_accuracy: 0.9467\n",
            "Epoch 7/50\n",
            "2400/2400 [==============================] - 17s 7ms/step - loss: 0.0986 - accuracy: 0.9722 - val_loss: 0.1777 - val_accuracy: 0.9480\n",
            "Epoch 8/50\n",
            "2400/2400 [==============================] - 27s 11ms/step - loss: 0.0822 - accuracy: 0.9787 - val_loss: 0.1594 - val_accuracy: 0.9527\n",
            "Epoch 9/50\n",
            "2400/2400 [==============================] - 16s 7ms/step - loss: 0.0694 - accuracy: 0.9829 - val_loss: 0.1579 - val_accuracy: 0.9535\n",
            "Epoch 10/50\n",
            "2400/2400 [==============================] - 16s 7ms/step - loss: 0.0591 - accuracy: 0.9855 - val_loss: 0.1591 - val_accuracy: 0.9531\n",
            "Epoch 11/50\n",
            "2400/2400 [==============================] - 16s 7ms/step - loss: 0.0499 - accuracy: 0.9888 - val_loss: 0.1485 - val_accuracy: 0.9566\n",
            "Epoch 12/50\n",
            "2400/2400 [==============================] - 16s 7ms/step - loss: 0.0416 - accuracy: 0.9913 - val_loss: 0.1504 - val_accuracy: 0.9558\n",
            "Epoch 13/50\n",
            "2400/2400 [==============================] - 16s 7ms/step - loss: 0.0363 - accuracy: 0.9929 - val_loss: 0.1521 - val_accuracy: 0.9566\n",
            "Epoch 14/50\n",
            "2400/2400 [==============================] - 16s 7ms/step - loss: 0.0312 - accuracy: 0.9938 - val_loss: 0.1509 - val_accuracy: 0.9564\n",
            "Epoch 15/50\n",
            "2400/2400 [==============================] - 16s 7ms/step - loss: 0.0260 - accuracy: 0.9970 - val_loss: 0.1475 - val_accuracy: 0.9585\n",
            "Epoch 16/50\n",
            "2400/2400 [==============================] - 16s 7ms/step - loss: 0.0229 - accuracy: 0.9970 - val_loss: 0.1479 - val_accuracy: 0.9585\n",
            "Epoch 17/50\n",
            "2400/2400 [==============================] - 26s 11ms/step - loss: 0.0199 - accuracy: 0.9980 - val_loss: 0.1495 - val_accuracy: 0.9584\n",
            "Epoch 18/50\n",
            "2400/2400 [==============================] - 16s 6ms/step - loss: 0.0171 - accuracy: 0.9985 - val_loss: 0.1478 - val_accuracy: 0.9587\n",
            "Epoch 19/50\n",
            "2400/2400 [==============================] - 26s 11ms/step - loss: 0.0153 - accuracy: 0.9988 - val_loss: 0.1480 - val_accuracy: 0.9589\n",
            "Epoch 20/50\n",
            "2400/2400 [==============================] - 16s 7ms/step - loss: 0.0134 - accuracy: 0.9994 - val_loss: 0.1507 - val_accuracy: 0.9588\n",
            "Epoch 21/50\n",
            "2400/2400 [==============================] - 15s 6ms/step - loss: 0.0120 - accuracy: 0.9994 - val_loss: 0.1496 - val_accuracy: 0.9591\n",
            "Epoch 22/50\n",
            "2400/2400 [==============================] - 16s 6ms/step - loss: 0.0107 - accuracy: 0.9996 - val_loss: 0.1502 - val_accuracy: 0.9594\n",
            "Epoch 23/50\n",
            "2400/2400 [==============================] - 15s 6ms/step - loss: 0.0096 - accuracy: 0.9997 - val_loss: 0.1521 - val_accuracy: 0.9591\n",
            "Epoch 24/50\n",
            "2400/2400 [==============================] - 16s 7ms/step - loss: 0.0087 - accuracy: 0.9998 - val_loss: 0.1528 - val_accuracy: 0.9591\n",
            "Epoch 25/50\n",
            "2400/2400 [==============================] - 16s 6ms/step - loss: 0.0080 - accuracy: 1.0000 - val_loss: 0.1521 - val_accuracy: 0.9597\n",
            "Epoch 26/50\n",
            "2400/2400 [==============================] - 16s 7ms/step - loss: 0.0073 - accuracy: 0.9999 - val_loss: 0.1552 - val_accuracy: 0.9588\n",
            "Epoch 27/50\n",
            "2400/2400 [==============================] - 16s 6ms/step - loss: 0.0068 - accuracy: 1.0000 - val_loss: 0.1548 - val_accuracy: 0.9595\n",
            "Epoch 28/50\n",
            "2400/2400 [==============================] - 16s 7ms/step - loss: 0.0063 - accuracy: 1.0000 - val_loss: 0.1549 - val_accuracy: 0.9600\n",
            "Epoch 29/50\n",
            "2400/2400 [==============================] - 15s 6ms/step - loss: 0.0058 - accuracy: 1.0000 - val_loss: 0.1551 - val_accuracy: 0.9593\n",
            "Epoch 30/50\n",
            "2400/2400 [==============================] - 16s 7ms/step - loss: 0.0055 - accuracy: 1.0000 - val_loss: 0.1549 - val_accuracy: 0.9599\n",
            "Epoch 31/50\n",
            "2400/2400 [==============================] - 15s 6ms/step - loss: 0.0052 - accuracy: 1.0000 - val_loss: 0.1568 - val_accuracy: 0.9601\n",
            "Epoch 32/50\n",
            "2400/2400 [==============================] - 15s 6ms/step - loss: 0.0049 - accuracy: 1.0000 - val_loss: 0.1572 - val_accuracy: 0.9600\n",
            "Epoch 33/50\n",
            "2400/2400 [==============================] - 15s 6ms/step - loss: 0.0046 - accuracy: 1.0000 - val_loss: 0.1589 - val_accuracy: 0.9599\n",
            "Epoch 34/50\n",
            "2400/2400 [==============================] - 16s 6ms/step - loss: 0.0044 - accuracy: 1.0000 - val_loss: 0.1582 - val_accuracy: 0.9601\n",
            "Epoch 35/50\n",
            "2400/2400 [==============================] - 15s 6ms/step - loss: 0.0042 - accuracy: 1.0000 - val_loss: 0.1605 - val_accuracy: 0.9599\n",
            "Epoch 36/50\n",
            "2400/2400 [==============================] - 16s 7ms/step - loss: 0.0040 - accuracy: 1.0000 - val_loss: 0.1594 - val_accuracy: 0.9602\n",
            "Epoch 37/50\n",
            "2400/2400 [==============================] - 15s 6ms/step - loss: 0.0038 - accuracy: 1.0000 - val_loss: 0.1601 - val_accuracy: 0.9600\n",
            "Epoch 38/50\n",
            "2398/2400 [============================>.] - ETA: 0s - loss: 0.0036 - accuracy: 1.0000"
          ]
        }
      ]
    },
    {
      "cell_type": "code",
      "source": [
        "model_105 = model_init(0.2, 0.2)\n",
        "model_105_fit = model_105.fit(x_train, y_train, epochs=50, batch_size=5, validation_data=(x_val, y_val), verbose=1)"
      ],
      "metadata": {
        "colab": {
          "base_uri": "https://localhost:8080/"
        },
        "id": "qqlO8qFRnpiJ",
        "outputId": "684992b8-ebdf-433e-d136-2ca770bc9e51"
      },
      "execution_count": null,
      "outputs": [
        {
          "output_type": "stream",
          "name": "stdout",
          "text": [
            "Epoch 1/50\n",
            "Tensor(\"Greater:0\", shape=(200,), dtype=bool, device=/job:localhost/replica:0/task:0/device:CPU:0)\n",
            "Tensor(\"Greater:0\", shape=(200, 10), dtype=bool, device=/job:localhost/replica:0/task:0/device:CPU:0)\n",
            "Tensor(\"Greater:0\", shape=(10,), dtype=bool, device=/job:localhost/replica:0/task:0/device:CPU:0)\n",
            "2400/2400 [==============================] - 17s 7ms/step - loss: 1.3179 - accuracy: 0.7005 - val_loss: 0.6435 - val_accuracy: 0.8421\n",
            "Epoch 2/50\n",
            "2400/2400 [==============================] - 16s 7ms/step - loss: 0.5057 - accuracy: 0.8718 - val_loss: 0.4381 - val_accuracy: 0.8824\n",
            "Epoch 3/50\n",
            "2400/2400 [==============================] - 16s 7ms/step - loss: 0.3896 - accuracy: 0.8936 - val_loss: 0.3793 - val_accuracy: 0.8925\n",
            "Epoch 4/50\n",
            "2400/2400 [==============================] - 16s 7ms/step - loss: 0.3428 - accuracy: 0.9045 - val_loss: 0.3550 - val_accuracy: 0.8986\n",
            "Epoch 5/50\n",
            "2400/2400 [==============================] - 16s 7ms/step - loss: 0.3153 - accuracy: 0.9112 - val_loss: 0.3306 - val_accuracy: 0.9057\n",
            "Epoch 6/50\n",
            "2400/2400 [==============================] - 15s 6ms/step - loss: 0.2939 - accuracy: 0.9172 - val_loss: 0.3147 - val_accuracy: 0.9099\n",
            "Epoch 7/50\n",
            "2400/2400 [==============================] - 15s 6ms/step - loss: 0.2765 - accuracy: 0.9227 - val_loss: 0.3084 - val_accuracy: 0.9102\n",
            "Epoch 8/50\n",
            "2400/2400 [==============================] - 15s 6ms/step - loss: 0.2622 - accuracy: 0.9243 - val_loss: 0.2922 - val_accuracy: 0.9158\n",
            "Epoch 9/50\n",
            "2400/2400 [==============================] - 15s 6ms/step - loss: 0.2484 - accuracy: 0.9288 - val_loss: 0.2864 - val_accuracy: 0.9172\n",
            "Epoch 10/50\n",
            "2400/2400 [==============================] - 15s 6ms/step - loss: 0.2367 - accuracy: 0.9322 - val_loss: 0.2771 - val_accuracy: 0.9197\n",
            "Epoch 11/50\n",
            "2400/2400 [==============================] - 15s 6ms/step - loss: 0.2260 - accuracy: 0.9356 - val_loss: 0.2707 - val_accuracy: 0.9224\n",
            "Epoch 12/50\n",
            "2400/2400 [==============================] - 15s 6ms/step - loss: 0.2149 - accuracy: 0.9392 - val_loss: 0.2669 - val_accuracy: 0.9236\n",
            "Epoch 13/50\n",
            "2400/2400 [==============================] - 15s 6ms/step - loss: 0.2063 - accuracy: 0.9417 - val_loss: 0.2547 - val_accuracy: 0.9268\n",
            "Epoch 14/50\n",
            "2400/2400 [==============================] - 15s 6ms/step - loss: 0.1971 - accuracy: 0.9454 - val_loss: 0.2521 - val_accuracy: 0.9281\n",
            "Epoch 15/50\n",
            "2400/2400 [==============================] - 15s 6ms/step - loss: 0.1880 - accuracy: 0.9463 - val_loss: 0.2438 - val_accuracy: 0.9304\n",
            "Epoch 16/50\n",
            "2400/2400 [==============================] - 15s 6ms/step - loss: 0.1801 - accuracy: 0.9512 - val_loss: 0.2387 - val_accuracy: 0.9316\n",
            "Epoch 17/50\n",
            "2400/2400 [==============================] - 15s 6ms/step - loss: 0.1728 - accuracy: 0.9521 - val_loss: 0.2333 - val_accuracy: 0.9334\n",
            "Epoch 18/50\n",
            "2400/2400 [==============================] - 15s 6ms/step - loss: 0.1655 - accuracy: 0.9542 - val_loss: 0.2292 - val_accuracy: 0.9339\n",
            "Epoch 19/50\n",
            "2400/2400 [==============================] - 15s 6ms/step - loss: 0.1587 - accuracy: 0.9560 - val_loss: 0.2244 - val_accuracy: 0.9359\n",
            "Epoch 20/50\n",
            "2400/2400 [==============================] - 15s 6ms/step - loss: 0.1515 - accuracy: 0.9589 - val_loss: 0.2196 - val_accuracy: 0.9369\n",
            "Epoch 21/50\n",
            "2400/2400 [==============================] - 15s 6ms/step - loss: 0.1459 - accuracy: 0.9600 - val_loss: 0.2170 - val_accuracy: 0.9383\n"
          ]
        }
      ]
    },
    {
      "cell_type": "code",
      "source": [
        "model_85 = model_init(0.5, 0.5)\n",
        "model_85_fit = model_85.fit(x_train, y_train, epochs=50, batch_size=5, validation_data=(x_val, y_val), verbose=1)"
      ],
      "metadata": {
        "colab": {
          "base_uri": "https://localhost:8080/"
        },
        "id": "E2hJiNSepEZJ",
        "outputId": "ef045788-7769-4bde-ab98-8aa164eb62d9"
      },
      "execution_count": null,
      "outputs": [
        {
          "output_type": "stream",
          "name": "stdout",
          "text": [
            "Epoch 1/50\n",
            "Tensor(\"Greater:0\", shape=(200,), dtype=bool, device=/job:localhost/replica:0/task:0/device:CPU:0)\n",
            "Tensor(\"Greater:0\", shape=(200, 10), dtype=bool, device=/job:localhost/replica:0/task:0/device:CPU:0)\n",
            "Tensor(\"Greater:0\", shape=(10,), dtype=bool, device=/job:localhost/replica:0/task:0/device:CPU:0)\n",
            "2400/2400 [==============================] - 17s 7ms/step - loss: 0.8359 - accuracy: 0.7758 - val_loss: 0.4174 - val_accuracy: 0.8810\n",
            "Epoch 2/50\n",
            "2400/2400 [==============================] - 16s 7ms/step - loss: 0.3514 - accuracy: 0.8991 - val_loss: 0.3417 - val_accuracy: 0.9017\n",
            "Epoch 3/50\n",
            "2400/2400 [==============================] - 16s 7ms/step - loss: 0.2939 - accuracy: 0.9143 - val_loss: 0.3026 - val_accuracy: 0.9139\n",
            "Epoch 4/50\n",
            "2400/2400 [==============================] - 26s 11ms/step - loss: 0.2555 - accuracy: 0.9273 - val_loss: 0.2781 - val_accuracy: 0.9192\n",
            "Epoch 5/50\n",
            "2400/2400 [==============================] - 16s 7ms/step - loss: 0.2244 - accuracy: 0.9346 - val_loss: 0.2652 - val_accuracy: 0.9229\n",
            "Epoch 6/50\n",
            "2400/2400 [==============================] - 16s 7ms/step - loss: 0.2003 - accuracy: 0.9442 - val_loss: 0.2372 - val_accuracy: 0.9315\n",
            "Epoch 7/50\n",
            "2400/2400 [==============================] - 16s 7ms/step - loss: 0.1761 - accuracy: 0.9502 - val_loss: 0.2261 - val_accuracy: 0.9344\n",
            "Epoch 8/50\n",
            "2400/2400 [==============================] - 16s 7ms/step - loss: 0.1601 - accuracy: 0.9569 - val_loss: 0.2150 - val_accuracy: 0.9387\n",
            "Epoch 9/50\n",
            "2400/2400 [==============================] - 17s 7ms/step - loss: 0.1440 - accuracy: 0.9602 - val_loss: 0.2059 - val_accuracy: 0.9407\n",
            "Epoch 10/50\n",
            "2400/2400 [==============================] - 27s 11ms/step - loss: 0.1295 - accuracy: 0.9651 - val_loss: 0.1977 - val_accuracy: 0.9423\n",
            "Epoch 11/50\n",
            "2400/2400 [==============================] - 17s 7ms/step - loss: 0.1185 - accuracy: 0.9668 - val_loss: 0.1924 - val_accuracy: 0.9440\n",
            "Epoch 12/50\n",
            "2400/2400 [==============================] - 17s 7ms/step - loss: 0.1064 - accuracy: 0.9721 - val_loss: 0.1880 - val_accuracy: 0.9444\n",
            "Epoch 13/50\n",
            "2400/2400 [==============================] - 27s 11ms/step - loss: 0.0969 - accuracy: 0.9748 - val_loss: 0.1868 - val_accuracy: 0.9444\n",
            "Epoch 14/50\n",
            "2400/2400 [==============================] - 16s 7ms/step - loss: 0.0887 - accuracy: 0.9772 - val_loss: 0.1795 - val_accuracy: 0.9479\n",
            "Epoch 15/50\n",
            "2400/2400 [==============================] - 16s 7ms/step - loss: 0.0804 - accuracy: 0.9808 - val_loss: 0.1717 - val_accuracy: 0.9503\n",
            "Epoch 16/50\n",
            "2400/2400 [==============================] - 16s 7ms/step - loss: 0.0742 - accuracy: 0.9822 - val_loss: 0.1710 - val_accuracy: 0.9492\n",
            "Epoch 17/50\n",
            "2400/2400 [==============================] - 16s 7ms/step - loss: 0.0677 - accuracy: 0.9845 - val_loss: 0.1669 - val_accuracy: 0.9509\n",
            "Epoch 18/50\n",
            "2400/2400 [==============================] - 16s 7ms/step - loss: 0.0616 - accuracy: 0.9858 - val_loss: 0.1709 - val_accuracy: 0.9501\n",
            "Epoch 19/50\n",
            "2400/2400 [==============================] - 16s 7ms/step - loss: 0.0562 - accuracy: 0.9877 - val_loss: 0.1679 - val_accuracy: 0.9515\n",
            "Epoch 20/50\n",
            "2400/2400 [==============================] - 16s 7ms/step - loss: 0.0519 - accuracy: 0.9895 - val_loss: 0.1635 - val_accuracy: 0.9529\n",
            "Epoch 21/50\n",
            "2400/2400 [==============================] - 26s 11ms/step - loss: 0.0483 - accuracy: 0.9900 - val_loss: 0.1620 - val_accuracy: 0.9534\n",
            "Epoch 22/50\n",
            "2400/2400 [==============================] - 17s 7ms/step - loss: 0.0445 - accuracy: 0.9911 - val_loss: 0.1579 - val_accuracy: 0.9542\n",
            "Epoch 23/50\n",
            "2400/2400 [==============================] - 27s 11ms/step - loss: 0.0402 - accuracy: 0.9927 - val_loss: 0.1616 - val_accuracy: 0.9529\n",
            "Epoch 24/50\n",
            "2400/2400 [==============================] - 17s 7ms/step - loss: 0.0371 - accuracy: 0.9935 - val_loss: 0.1587 - val_accuracy: 0.9544\n",
            "Epoch 25/50\n",
            "2400/2400 [==============================] - 17s 7ms/step - loss: 0.0343 - accuracy: 0.9940 - val_loss: 0.1599 - val_accuracy: 0.9536\n",
            "Epoch 26/50\n",
            "2400/2400 [==============================] - 17s 7ms/step - loss: 0.0316 - accuracy: 0.9952 - val_loss: 0.1584 - val_accuracy: 0.9548\n",
            "Epoch 27/50\n",
            "2400/2400 [==============================] - 19s 8ms/step - loss: 0.0296 - accuracy: 0.9955 - val_loss: 0.1585 - val_accuracy: 0.9543\n",
            "Epoch 28/50\n",
            "2400/2400 [==============================] - 27s 11ms/step - loss: 0.0272 - accuracy: 0.9966 - val_loss: 0.1560 - val_accuracy: 0.9560\n",
            "Epoch 29/50\n",
            "2400/2400 [==============================] - 27s 11ms/step - loss: 0.0248 - accuracy: 0.9969 - val_loss: 0.1597 - val_accuracy: 0.9552\n",
            "Epoch 30/50\n",
            "2400/2400 [==============================] - 27s 11ms/step - loss: 0.0234 - accuracy: 0.9973 - val_loss: 0.1570 - val_accuracy: 0.9557\n",
            "Epoch 31/50\n",
            "2400/2400 [==============================] - 17s 7ms/step - loss: 0.0217 - accuracy: 0.9983 - val_loss: 0.1564 - val_accuracy: 0.9561\n",
            "Epoch 32/50\n",
            "2400/2400 [==============================] - 27s 11ms/step - loss: 0.0204 - accuracy: 0.9987 - val_loss: 0.1555 - val_accuracy: 0.9568\n",
            "Epoch 33/50\n",
            "2400/2400 [==============================] - 17s 7ms/step - loss: 0.0190 - accuracy: 0.9987 - val_loss: 0.1580 - val_accuracy: 0.9563\n",
            "Epoch 34/50\n",
            "2400/2400 [==============================] - 17s 7ms/step - loss: 0.0177 - accuracy: 0.9987 - val_loss: 0.1565 - val_accuracy: 0.9562\n",
            "Epoch 35/50\n",
            "2400/2400 [==============================] - 27s 11ms/step - loss: 0.0167 - accuracy: 0.9992 - val_loss: 0.1563 - val_accuracy: 0.9570\n",
            "Epoch 36/50\n",
            "2400/2400 [==============================] - 27s 11ms/step - loss: 0.0157 - accuracy: 0.9994 - val_loss: 0.1575 - val_accuracy: 0.9567\n",
            "Epoch 37/50\n",
            "2400/2400 [==============================] - 27s 11ms/step - loss: 0.0147 - accuracy: 0.9996 - val_loss: 0.1588 - val_accuracy: 0.9566\n",
            "Epoch 38/50\n",
            "2400/2400 [==============================] - 26s 11ms/step - loss: 0.0140 - accuracy: 0.9996 - val_loss: 0.1569 - val_accuracy: 0.9578\n",
            "Epoch 39/50\n",
            "2400/2400 [==============================] - 27s 11ms/step - loss: 0.0132 - accuracy: 0.9997 - val_loss: 0.1591 - val_accuracy: 0.9570\n",
            "Epoch 40/50\n",
            "2400/2400 [==============================] - 27s 11ms/step - loss: 0.0125 - accuracy: 0.9998 - val_loss: 0.1574 - val_accuracy: 0.9573\n",
            "Epoch 41/50\n",
            "2389/2400 [============================>.] - ETA: 0s - loss: 0.0119 - accuracy: 0.9997"
          ]
        }
      ]
    },
    {
      "cell_type": "code",
      "source": [
        "model_m10 = model_init(1.5, 1.5)\n",
        "model_m10_fit = model_m10.fit(x_train, y_train, epochs=50, batch_size=5, validation_data=(x_val, y_val), verbose=1)"
      ],
      "metadata": {
        "colab": {
          "base_uri": "https://localhost:8080/"
        },
        "id": "5Koh9UgHpKwN",
        "outputId": "05cb6909-baa8-4df7-f58b-320ed8811e86"
      },
      "execution_count": null,
      "outputs": [
        {
          "output_type": "stream",
          "name": "stdout",
          "text": [
            "Epoch 1/50\n",
            "Tensor(\"Greater:0\", shape=(200,), dtype=bool, device=/job:localhost/replica:0/task:0/device:CPU:0)\n",
            "Tensor(\"Greater:0\", shape=(200, 10), dtype=bool, device=/job:localhost/replica:0/task:0/device:CPU:0)\n",
            "Tensor(\"Greater:0\", shape=(10,), dtype=bool, device=/job:localhost/replica:0/task:0/device:CPU:0)\n",
            "2400/2400 [==============================] - 17s 7ms/step - loss: 0.5330 - accuracy: 0.8483 - val_loss: 0.3536 - val_accuracy: 0.8904\n",
            "Epoch 2/50\n",
            "2400/2400 [==============================] - 16s 7ms/step - loss: 0.2581 - accuracy: 0.9252 - val_loss: 0.2387 - val_accuracy: 0.9297\n",
            "Epoch 3/50\n",
            "2400/2400 [==============================] - 26s 11ms/step - loss: 0.1815 - accuracy: 0.9447 - val_loss: 0.2148 - val_accuracy: 0.9357\n",
            "Epoch 4/50\n",
            "2400/2400 [==============================] - 16s 7ms/step - loss: 0.1387 - accuracy: 0.9585 - val_loss: 0.1855 - val_accuracy: 0.9452\n",
            "Epoch 5/50\n",
            "2400/2400 [==============================] - 26s 11ms/step - loss: 0.1081 - accuracy: 0.9700 - val_loss: 0.1681 - val_accuracy: 0.9505\n",
            "Epoch 6/50\n",
            "2400/2400 [==============================] - 16s 7ms/step - loss: 0.0836 - accuracy: 0.9767 - val_loss: 0.1580 - val_accuracy: 0.9537\n",
            "Epoch 7/50\n",
            "2400/2400 [==============================] - 15s 6ms/step - loss: 0.0671 - accuracy: 0.9835 - val_loss: 0.1588 - val_accuracy: 0.9530\n",
            "Epoch 8/50\n",
            "2400/2400 [==============================] - 26s 11ms/step - loss: 0.0525 - accuracy: 0.9869 - val_loss: 0.1506 - val_accuracy: 0.9563\n",
            "Epoch 9/50\n",
            "2400/2400 [==============================] - 26s 11ms/step - loss: 0.0417 - accuracy: 0.9902 - val_loss: 0.1473 - val_accuracy: 0.9580\n",
            "Epoch 10/50\n",
            "2400/2400 [==============================] - 16s 7ms/step - loss: 0.0336 - accuracy: 0.9923 - val_loss: 0.1469 - val_accuracy: 0.9578\n",
            "Epoch 11/50\n",
            "2400/2400 [==============================] - 16s 7ms/step - loss: 0.0255 - accuracy: 0.9958 - val_loss: 0.1526 - val_accuracy: 0.9567\n",
            "Epoch 12/50\n",
            "2400/2400 [==============================] - 16s 7ms/step - loss: 0.0206 - accuracy: 0.9973 - val_loss: 0.1462 - val_accuracy: 0.9587\n",
            "Epoch 13/50\n",
            "2400/2400 [==============================] - 27s 11ms/step - loss: 0.0165 - accuracy: 0.9983 - val_loss: 0.1453 - val_accuracy: 0.9601\n",
            "Epoch 14/50\n",
            "2400/2400 [==============================] - 27s 11ms/step - loss: 0.0138 - accuracy: 0.9988 - val_loss: 0.1437 - val_accuracy: 0.9605\n",
            "Epoch 15/50\n",
            "2400/2400 [==============================] - 16s 7ms/step - loss: 0.0113 - accuracy: 0.9993 - val_loss: 0.1449 - val_accuracy: 0.9610\n",
            "Epoch 16/50\n",
            "2400/2400 [==============================] - 27s 11ms/step - loss: 0.0094 - accuracy: 0.9998 - val_loss: 0.1478 - val_accuracy: 0.9607\n",
            "Epoch 17/50\n",
            "2400/2400 [==============================] - 17s 7ms/step - loss: 0.0082 - accuracy: 0.9997 - val_loss: 0.1469 - val_accuracy: 0.9611\n",
            "Epoch 18/50\n",
            "2400/2400 [==============================] - 27s 11ms/step - loss: 0.0069 - accuracy: 0.9999 - val_loss: 0.1478 - val_accuracy: 0.9610\n",
            "Epoch 19/50\n",
            "2400/2400 [==============================] - 26s 11ms/step - loss: 0.0062 - accuracy: 1.0000 - val_loss: 0.1489 - val_accuracy: 0.9609\n",
            "Epoch 20/50\n",
            "2400/2400 [==============================] - 27s 11ms/step - loss: 0.0056 - accuracy: 1.0000 - val_loss: 0.1486 - val_accuracy: 0.9615\n",
            "Epoch 21/50\n",
            "2400/2400 [==============================] - 16s 7ms/step - loss: 0.0051 - accuracy: 1.0000 - val_loss: 0.1536 - val_accuracy: 0.9611\n",
            "Epoch 22/50\n",
            "2400/2400 [==============================] - 16s 7ms/step - loss: 0.0046 - accuracy: 1.0000 - val_loss: 0.1526 - val_accuracy: 0.9615\n",
            "Epoch 23/50\n",
            "2400/2400 [==============================] - 16s 7ms/step - loss: 0.0042 - accuracy: 1.0000 - val_loss: 0.1533 - val_accuracy: 0.9616\n",
            "Epoch 24/50\n",
            "2400/2400 [==============================] - 16s 7ms/step - loss: 0.0039 - accuracy: 1.0000 - val_loss: 0.1534 - val_accuracy: 0.9613\n",
            "Epoch 25/50\n",
            "2400/2400 [==============================] - 16s 7ms/step - loss: 0.0036 - accuracy: 1.0000 - val_loss: 0.1530 - val_accuracy: 0.9618\n",
            "Epoch 26/50\n",
            "2400/2400 [==============================] - 16s 7ms/step - loss: 0.0034 - accuracy: 1.0000 - val_loss: 0.1552 - val_accuracy: 0.9618\n",
            "Epoch 27/50\n",
            "2400/2400 [==============================] - 16s 7ms/step - loss: 0.0032 - accuracy: 1.0000 - val_loss: 0.1570 - val_accuracy: 0.9616\n",
            "Epoch 28/50\n",
            "2400/2400 [==============================] - 16s 6ms/step - loss: 0.0030 - accuracy: 1.0000 - val_loss: 0.1583 - val_accuracy: 0.9613\n",
            "Epoch 29/50\n",
            "2400/2400 [==============================] - 16s 7ms/step - loss: 0.0028 - accuracy: 1.0000 - val_loss: 0.1571 - val_accuracy: 0.9617\n",
            "Epoch 30/50\n",
            "2400/2400 [==============================] - 16s 7ms/step - loss: 0.0027 - accuracy: 1.0000 - val_loss: 0.1581 - val_accuracy: 0.9619\n",
            "Epoch 31/50\n",
            "2400/2400 [==============================] - 16s 7ms/step - loss: 0.0025 - accuracy: 1.0000 - val_loss: 0.1587 - val_accuracy: 0.9617\n",
            "Epoch 32/50\n",
            "2400/2400 [==============================] - 16s 7ms/step - loss: 0.0024 - accuracy: 1.0000 - val_loss: 0.1594 - val_accuracy: 0.9618\n",
            "Epoch 33/50\n",
            "2400/2400 [==============================] - 15s 6ms/step - loss: 0.0023 - accuracy: 1.0000 - val_loss: 0.1592 - val_accuracy: 0.9623\n",
            "Epoch 34/50\n",
            "2400/2400 [==============================] - 16s 6ms/step - loss: 0.0022 - accuracy: 1.0000 - val_loss: 0.1612 - val_accuracy: 0.9618\n",
            "Epoch 35/50\n",
            "2400/2400 [==============================] - 16s 7ms/step - loss: 0.0021 - accuracy: 1.0000 - val_loss: 0.1601 - val_accuracy: 0.9624\n",
            "Epoch 36/50\n",
            "2400/2400 [==============================] - 16s 7ms/step - loss: 0.0020 - accuracy: 1.0000 - val_loss: 0.1614 - val_accuracy: 0.9619\n",
            "Epoch 37/50\n",
            "2400/2400 [==============================] - 15s 6ms/step - loss: 0.0019 - accuracy: 1.0000 - val_loss: 0.1631 - val_accuracy: 0.9620\n",
            "Epoch 38/50\n",
            "2400/2400 [==============================] - 15s 6ms/step - loss: 0.0018 - accuracy: 1.0000 - val_loss: 0.1615 - val_accuracy: 0.9623\n",
            "Epoch 39/50\n",
            "2400/2400 [==============================] - 15s 6ms/step - loss: 0.0018 - accuracy: 1.0000 - val_loss: 0.1625 - val_accuracy: 0.9622\n",
            "Epoch 40/50\n",
            "2400/2400 [==============================] - 15s 6ms/step - loss: 0.0017 - accuracy: 1.0000 - val_loss: 0.1639 - val_accuracy: 0.9620\n",
            "Epoch 41/50\n",
            "2400/2400 [==============================] - 15s 6ms/step - loss: 0.0016 - accuracy: 1.0000 - val_loss: 0.1644 - val_accuracy: 0.9621\n",
            "Epoch 42/50\n",
            "2400/2400 [==============================] - 16s 7ms/step - loss: 0.0016 - accuracy: 1.0000 - val_loss: 0.1638 - val_accuracy: 0.9621\n",
            "Epoch 43/50\n",
            "2400/2400 [==============================] - 16s 6ms/step - loss: 0.0015 - accuracy: 1.0000 - val_loss: 0.1648 - val_accuracy: 0.9623\n",
            "Epoch 44/50\n",
            "2400/2400 [==============================] - 16s 7ms/step - loss: 0.0015 - accuracy: 1.0000 - val_loss: 0.1654 - val_accuracy: 0.9617\n",
            "Epoch 45/50\n",
            "2400/2400 [==============================] - 16s 7ms/step - loss: 0.0014 - accuracy: 1.0000 - val_loss: 0.1661 - val_accuracy: 0.9620\n",
            "Epoch 46/50\n",
            "2400/2400 [==============================] - 16s 7ms/step - loss: 0.0014 - accuracy: 1.0000 - val_loss: 0.1659 - val_accuracy: 0.9623\n",
            "Epoch 47/50\n",
            "2400/2400 [==============================] - 16s 7ms/step - loss: 0.0014 - accuracy: 1.0000 - val_loss: 0.1669 - val_accuracy: 0.9622\n",
            "Epoch 48/50\n",
            "2400/2400 [==============================] - 16s 6ms/step - loss: 0.0013 - accuracy: 1.0000 - val_loss: 0.1674 - val_accuracy: 0.9621\n",
            "Epoch 49/50\n",
            "2400/2400 [==============================] - 16s 7ms/step - loss: 0.0013 - accuracy: 1.0000 - val_loss: 0.1670 - val_accuracy: 0.9625\n",
            "Epoch 50/50\n",
            "2400/2400 [==============================] - 16s 6ms/step - loss: 0.0012 - accuracy: 1.0000 - val_loss: 0.1674 - val_accuracy: 0.9620\n"
          ]
        }
      ]
    },
    {
      "cell_type": "code",
      "source": [
        "model_m40 = model_init(2, 2)\n",
        "model_m40_fit = model_m40.fit(x_train, y_train, epochs=50, batch_size=5, validation_data=(x_val, y_val), verbose=1)"
      ],
      "metadata": {
        "id": "cGZv8hfFpSKX",
        "colab": {
          "base_uri": "https://localhost:8080/"
        },
        "outputId": "eb9ab99f-62d0-4045-cc35-c871b998d518"
      },
      "execution_count": null,
      "outputs": [
        {
          "output_type": "stream",
          "name": "stdout",
          "text": [
            "Epoch 1/50\n",
            "Tensor(\"Greater:0\", shape=(200,), dtype=bool, device=/job:localhost/replica:0/task:0/device:CPU:0)\n",
            "Tensor(\"Greater:0\", shape=(200, 10), dtype=bool, device=/job:localhost/replica:0/task:0/device:CPU:0)\n",
            "Tensor(\"Greater:0\", shape=(10,), dtype=bool, device=/job:localhost/replica:0/task:0/device:CPU:0)\n",
            "2400/2400 [==============================] - 17s 7ms/step - loss: 0.4900 - accuracy: 0.8570 - val_loss: 0.2841 - val_accuracy: 0.9166\n",
            "Epoch 2/50\n",
            "2400/2400 [==============================] - 16s 7ms/step - loss: 0.2225 - accuracy: 0.9341 - val_loss: 0.2364 - val_accuracy: 0.9295\n",
            "Epoch 3/50\n",
            "2400/2400 [==============================] - 16s 7ms/step - loss: 0.1517 - accuracy: 0.9542 - val_loss: 0.2037 - val_accuracy: 0.9377\n",
            "Epoch 4/50\n",
            "2400/2400 [==============================] - 16s 7ms/step - loss: 0.1097 - accuracy: 0.9690 - val_loss: 0.2014 - val_accuracy: 0.9387\n",
            "Epoch 5/50\n",
            "2400/2400 [==============================] - 26s 11ms/step - loss: 0.0805 - accuracy: 0.9778 - val_loss: 0.1490 - val_accuracy: 0.9553\n",
            "Epoch 6/50\n",
            "2400/2400 [==============================] - 16s 7ms/step - loss: 0.0602 - accuracy: 0.9838 - val_loss: 0.1616 - val_accuracy: 0.9524\n",
            "Epoch 7/50\n",
            "2400/2400 [==============================] - 16s 6ms/step - loss: 0.0468 - accuracy: 0.9874 - val_loss: 0.1443 - val_accuracy: 0.9578\n",
            "Epoch 8/50\n",
            "2400/2400 [==============================] - 15s 6ms/step - loss: 0.0328 - accuracy: 0.9916 - val_loss: 0.1420 - val_accuracy: 0.9596\n",
            "Epoch 9/50\n",
            "2400/2400 [==============================] - 15s 6ms/step - loss: 0.0242 - accuracy: 0.9952 - val_loss: 0.1357 - val_accuracy: 0.9616\n",
            "Epoch 10/50\n",
            "2400/2400 [==============================] - 15s 6ms/step - loss: 0.0183 - accuracy: 0.9967 - val_loss: 0.1393 - val_accuracy: 0.9610\n",
            "Epoch 11/50\n",
            "2400/2400 [==============================] - 27s 11ms/step - loss: 0.0135 - accuracy: 0.9987 - val_loss: 0.1417 - val_accuracy: 0.9611\n",
            "Epoch 12/50\n",
            "2400/2400 [==============================] - 16s 6ms/step - loss: 0.0106 - accuracy: 0.9994 - val_loss: 0.1417 - val_accuracy: 0.9615\n",
            "Epoch 13/50\n",
            "2400/2400 [==============================] - 16s 6ms/step - loss: 0.0080 - accuracy: 0.9998 - val_loss: 0.1474 - val_accuracy: 0.9612\n",
            "Epoch 14/50\n",
            "2400/2400 [==============================] - 16s 6ms/step - loss: 0.0069 - accuracy: 0.9998 - val_loss: 0.1439 - val_accuracy: 0.9620\n",
            "Epoch 15/50\n",
            "2400/2400 [==============================] - 15s 6ms/step - loss: 0.0055 - accuracy: 1.0000 - val_loss: 0.1453 - val_accuracy: 0.9619\n",
            "Epoch 16/50\n",
            "2400/2400 [==============================] - 15s 6ms/step - loss: 0.0049 - accuracy: 0.9999 - val_loss: 0.1466 - val_accuracy: 0.9620\n",
            "Epoch 17/50\n",
            "2400/2400 [==============================] - 15s 6ms/step - loss: 0.0042 - accuracy: 1.0000 - val_loss: 0.1471 - val_accuracy: 0.9623\n",
            "Epoch 18/50\n",
            "2400/2400 [==============================] - 15s 6ms/step - loss: 0.0038 - accuracy: 1.0000 - val_loss: 0.1485 - val_accuracy: 0.9622\n",
            "Epoch 19/50\n",
            "2400/2400 [==============================] - 15s 6ms/step - loss: 0.0035 - accuracy: 1.0000 - val_loss: 0.1499 - val_accuracy: 0.9623\n",
            "Epoch 20/50\n",
            "2400/2400 [==============================] - 15s 6ms/step - loss: 0.0032 - accuracy: 1.0000 - val_loss: 0.1501 - val_accuracy: 0.9627\n",
            "Epoch 21/50\n",
            "2400/2400 [==============================] - 15s 6ms/step - loss: 0.0029 - accuracy: 1.0000 - val_loss: 0.1509 - val_accuracy: 0.9624\n",
            "Epoch 22/50\n",
            "2400/2400 [==============================] - 15s 6ms/step - loss: 0.0027 - accuracy: 1.0000 - val_loss: 0.1539 - val_accuracy: 0.9625\n",
            "Epoch 23/50\n",
            "2400/2400 [==============================] - 15s 6ms/step - loss: 0.0025 - accuracy: 1.0000 - val_loss: 0.1532 - val_accuracy: 0.9625\n",
            "Epoch 24/50\n",
            "2400/2400 [==============================] - 25s 11ms/step - loss: 0.0023 - accuracy: 1.0000 - val_loss: 0.1529 - val_accuracy: 0.9628\n",
            "Epoch 25/50\n",
            "2400/2400 [==============================] - 15s 6ms/step - loss: 0.0022 - accuracy: 1.0000 - val_loss: 0.1551 - val_accuracy: 0.9625\n",
            "Epoch 26/50\n",
            "2400/2400 [==============================] - 15s 6ms/step - loss: 0.0020 - accuracy: 1.0000 - val_loss: 0.1549 - val_accuracy: 0.9629\n",
            "Epoch 27/50\n",
            "2400/2400 [==============================] - 15s 6ms/step - loss: 0.0019 - accuracy: 1.0000 - val_loss: 0.1559 - val_accuracy: 0.9628\n",
            "Epoch 28/50\n",
            "2400/2400 [==============================] - 15s 6ms/step - loss: 0.0018 - accuracy: 1.0000 - val_loss: 0.1572 - val_accuracy: 0.9628\n",
            "Epoch 29/50\n",
            "2400/2400 [==============================] - 15s 6ms/step - loss: 0.0017 - accuracy: 1.0000 - val_loss: 0.1567 - val_accuracy: 0.9630\n",
            "Epoch 30/50\n",
            "2400/2400 [==============================] - 15s 6ms/step - loss: 0.0016 - accuracy: 1.0000 - val_loss: 0.1578 - val_accuracy: 0.9630\n",
            "Epoch 31/50\n",
            "2400/2400 [==============================] - 15s 6ms/step - loss: 0.0016 - accuracy: 1.0000 - val_loss: 0.1592 - val_accuracy: 0.9628\n",
            "Epoch 32/50\n",
            "2400/2400 [==============================] - 15s 6ms/step - loss: 0.0015 - accuracy: 1.0000 - val_loss: 0.1596 - val_accuracy: 0.9629\n",
            "Epoch 33/50\n",
            "2400/2400 [==============================] - 25s 11ms/step - loss: 0.0014 - accuracy: 1.0000 - val_loss: 0.1599 - val_accuracy: 0.9630\n",
            "Epoch 34/50\n",
            "2400/2400 [==============================] - 26s 11ms/step - loss: 0.0014 - accuracy: 1.0000 - val_loss: 0.1604 - val_accuracy: 0.9630\n",
            "Epoch 35/50\n",
            "2400/2400 [==============================] - 16s 7ms/step - loss: 0.0013 - accuracy: 1.0000 - val_loss: 0.1610 - val_accuracy: 0.9630\n",
            "Epoch 36/50\n",
            "2400/2400 [==============================] - 26s 11ms/step - loss: 0.0013 - accuracy: 1.0000 - val_loss: 0.1607 - val_accuracy: 0.9632\n",
            "Epoch 37/50\n",
            "2400/2400 [==============================] - 26s 11ms/step - loss: 0.0012 - accuracy: 1.0000 - val_loss: 0.1619 - val_accuracy: 0.9631\n",
            "Epoch 38/50\n",
            "2400/2400 [==============================] - 15s 6ms/step - loss: 0.0012 - accuracy: 1.0000 - val_loss: 0.1621 - val_accuracy: 0.9630\n",
            "Epoch 39/50\n",
            "2400/2400 [==============================] - 16s 6ms/step - loss: 0.0011 - accuracy: 1.0000 - val_loss: 0.1623 - val_accuracy: 0.9632\n",
            "Epoch 40/50\n",
            "2400/2400 [==============================] - 16s 6ms/step - loss: 0.0011 - accuracy: 1.0000 - val_loss: 0.1627 - val_accuracy: 0.9632\n",
            "Epoch 41/50\n",
            "2400/2400 [==============================] - 16s 7ms/step - loss: 0.0011 - accuracy: 1.0000 - val_loss: 0.1628 - val_accuracy: 0.9633\n",
            "Epoch 42/50\n",
            "2400/2400 [==============================] - 16s 7ms/step - loss: 0.0010 - accuracy: 1.0000 - val_loss: 0.1643 - val_accuracy: 0.9632\n",
            "Epoch 43/50\n",
            "2400/2400 [==============================] - 26s 11ms/step - loss: 0.0010 - accuracy: 1.0000 - val_loss: 0.1646 - val_accuracy: 0.9631\n",
            "Epoch 44/50\n",
            "2400/2400 [==============================] - 16s 7ms/step - loss: 9.7001e-04 - accuracy: 1.0000 - val_loss: 0.1651 - val_accuracy: 0.9632\n",
            "Epoch 45/50\n",
            "2400/2400 [==============================] - 16s 6ms/step - loss: 9.4376e-04 - accuracy: 1.0000 - val_loss: 0.1658 - val_accuracy: 0.9631\n",
            "Epoch 46/50\n",
            "2400/2400 [==============================] - 16s 6ms/step - loss: 9.1663e-04 - accuracy: 1.0000 - val_loss: 0.1665 - val_accuracy: 0.9633\n",
            "Epoch 47/50\n",
            "2400/2400 [==============================] - 16s 6ms/step - loss: 8.8826e-04 - accuracy: 1.0000 - val_loss: 0.1668 - val_accuracy: 0.9631\n",
            "Epoch 48/50\n",
            "2400/2400 [==============================] - 16s 7ms/step - loss: 8.6555e-04 - accuracy: 1.0000 - val_loss: 0.1666 - val_accuracy: 0.9632\n",
            "Epoch 49/50\n",
            "2400/2400 [==============================] - 16s 6ms/step - loss: 8.4244e-04 - accuracy: 1.0000 - val_loss: 0.1675 - val_accuracy: 0.9632\n",
            "Epoch 50/50\n",
            "2400/2400 [==============================] - 26s 11ms/step - loss: 8.2060e-04 - accuracy: 1.0000 - val_loss: 0.1673 - val_accuracy: 0.9632\n"
          ]
        }
      ]
    },
    {
      "cell_type": "code",
      "source": [
        "import matplotlib as mpl\n",
        "mpl.rcParams['font.family'] = 'sans-serif'\n",
        "mpl.rcParams['font.sans-serif'] = 'Times New Roman'\n",
        "mpl.rcParams['mathtext.fontset'] = 'custom'\n",
        "mpl.rcParams['mathtext.rm'] = 'Times New Roman'\n",
        "mpl.rcParams['mathtext.it'] = 'sans:italic'\n",
        "mpl.rcParams['mathtext.default'] = 'it'\n",
        "\n",
        "plt.figure(figsize=(10,8))\n",
        "plt.subplot(1,1,1)\n",
        "plt.plot(model_105_fit.history['val_accuracy'], label='105C', linewidth=3)\n",
        "plt.plot(model_85_fit.history['val_accuracy'], label='85C', linewidth=3)\n",
        "plt.plot(model_25_fit.history['val_accuracy'], label='25C', linewidth=3)\n",
        "plt.plot(model_m10_fit.history['val_accuracy'], label='-10C', linewidth=3)\n",
        "plt.plot(model_m40_fit.history['val_accuracy'], label='-40C', linewidth=3)\n",
        "plt.xlabel('# of Epoch', fontdict={'family':'Times New Roman', 'size':40})\n",
        "plt.ylabel('Accuracy', fontdict={'family':'Times New Roman', 'size': 40})\n",
        "plt.yticks(fontproperties = 'Times New Roman', size = 32)\n",
        "plt.xticks(fontproperties = 'Times New Roman', size = 32)\n",
        "plt.legend(loc='best', prop={'family':'Times New Roman', 'size':24})\n",
        "plt.show()"
      ],
      "metadata": {
        "id": "tWGEOqaMy-Sl",
        "colab": {
          "base_uri": "https://localhost:8080/",
          "height": 599
        },
        "outputId": "ffc7f49a-ed21-47ea-fd2a-44e3c9e16dc7"
      },
      "execution_count": null,
      "outputs": [
        {
          "output_type": "stream",
          "name": "stderr",
          "text": [
            "findfont: Font family ['Times New Roman'] not found. Falling back to DejaVu Sans.\n",
            "findfont: Font family ['Times New Roman'] not found. Falling back to DejaVu Sans.\n",
            "findfont: Font family ['Times New Roman'] not found. Falling back to DejaVu Sans.\n"
          ]
        },
        {
          "output_type": "display_data",
          "data": {
            "image/png": "[encoded data removed]",
            "text/plain": [
              "<Figure size 720x576 with 1 Axes>"
            ]
          },
          "metadata": {
            "needs_background": "light"
          }
        }
      ]
    },
    {
      "cell_type": "code",
      "source": [
        "import sys\n",
        "PATH = '/content/drive/MyDrive/mnist_keras'\n",
        "sys.path.append(PATH)"
      ],
      "metadata": {
        "id": "rM7HWagX7Fvs"
      },
      "execution_count": null,
      "outputs": []
    },
    {
      "cell_type": "code",
      "source": [
        "from google.colab import drive\n",
        "drive.mount('/content/drive')"
      ],
      "metadata": {
        "id": "su7a0UpuztKO",
        "colab": {
          "base_uri": "https://localhost:8080/"
        },
        "outputId": "f2ae85a1-aa98-49b6-9057-3a100e7ba829"
      },
      "execution_count": null,
      "outputs": [
        {
          "output_type": "stream",
          "name": "stdout",
          "text": [
            "Mounted at /content/drive\n"
          ]
        }
      ]
    },
    {
      "cell_type": "code",
      "source": [
        "np.savetxt(PATH + \"/temp_train_accu/accu_105.txt\", model_105_fit.history['val_accuracy'], fmt = '%f',delimiter = ', ')\n",
        "np.savetxt(PATH + \"/temp_train_accu/accu_85.txt\", model_85_fit.history['val_accuracy'], fmt = '%f',delimiter = ', ')\n",
        "np.savetxt(PATH + \"/temp_train_accu/accu_25.txt\", model_25_fit.history['val_accuracy'], fmt = '%f',delimiter = ', ')\n",
        "np.savetxt(PATH + \"/temp_train_accu/accu_-10.txt\", model_m10_fit.history['val_accuracy'], fmt = '%f',delimiter = ', ')\n",
        "np.savetxt(PATH + \"/temp_train_accu/accu_-40.txt\", model_m40_fit.history['val_accuracy'], fmt = '%f',delimiter = ', ')"
      ],
      "metadata": {
        "id": "qDWmvGMi8lB7"
      },
      "execution_count": null,
      "outputs": []
    },
    {
      "cell_type": "code",
      "source": [],
      "metadata": {
        "id": "9kGVtkwm9Nqt"
      },
      "execution_count": null,
      "outputs": []
    }
  ]
}